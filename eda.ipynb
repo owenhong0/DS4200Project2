{
 "cells": [
  {
   "cell_type": "code",
   "execution_count": 47,
   "metadata": {},
   "outputs": [],
   "source": [
    "# libraries\n",
    "import altair as alt\n",
    "import pandas as pd\n",
    "import matplotlib.pyplot as plt\n",
    "import seaborn as sns\n",
    "import warnings\n",
    "warnings.simplefilter(action='ignore', category=FutureWarning)"
   ]
  },
  {
   "cell_type": "markdown",
   "metadata": {},
   "source": [
    "# Data Processing and Cleaning\n",
    "Data Source: https://www.kaggle.com/datasets/maharshipandya/-spotify-tracks-dataset"
   ]
  },
  {
   "cell_type": "code",
   "execution_count": 48,
   "metadata": {},
   "outputs": [],
   "source": [
    "# read in data\n",
    "full_df = pd.read_csv('kaggle.csv')\n",
    "\n",
    "df = full_df.copy()\n",
    "\n",
    "# remove number column\n",
    "df = df.iloc[:, 1:]\n",
    "\n",
    "# drop rows with null values\n",
    "df = df.dropna()"
   ]
  },
  {
   "cell_type": "code",
   "execution_count": 49,
   "metadata": {},
   "outputs": [],
   "source": [
    "# filter to only songs with a popularity score above 70\n",
    "df_filtered = df[df['popularity'] >= 70]\n",
    "\n",
    "# keep only genres that appear at least 10 times\n",
    "genre_counts = df_filtered['track_genre'].value_counts()\n",
    "to_keep = genre_counts[genre_counts >= 150].index\n",
    "\n",
    "df_filtered = df_filtered[df_filtered['track_genre'].isin(to_keep)]\n",
    "\n",
    "# list of popular genres\n",
    "popular_genres = list(df_filtered['track_genre'].unique())"
   ]
  },
  {
   "cell_type": "code",
   "execution_count": 50,
   "metadata": {},
   "outputs": [],
   "source": [
    "# custom colors from colorgorical: \n",
    "custom_colors = [\"rgb(161,222,240)\", \"rgb(36,90,98)\", \"rgb(52,241,153)\", \"rgb(106,39,134)\", \"rgb(190,158,226)\", \n",
    "                 \"rgb(90,75,114)\", \"rgb(87,155,161)\", \"rgb(166,229,144)\", \"rgb(116,53,2)\", \"rgb(145,236,23)\", \n",
    "                \"rgb(215,55,113)\", \"rgb(64,164,59)\", \"rgb(239,102,240)\", \"rgb(9,96,19)\"]\n",
    "\n",
    "# map genres to colors\n",
    "genre_color_map = dict(zip(popular_genres, custom_colors))"
   ]
  },
  {
   "cell_type": "code",
   "execution_count": 51,
   "metadata": {},
   "outputs": [],
   "source": [
    "# shorter list of features (mainly ones on the same 0-1 scale)\n",
    "short_features = ['popularity', 'danceability', 'energy', 'acousticness', 'instrumentalness', 'valence']\n",
    "\n",
    "# longer list of features\n",
    "long_features = ['popularity', 'duration_ms', 'danceability', 'energy', 'loudness', 'speechiness', \n",
    "                 'acousticness', 'instrumentalness', 'liveness', 'valence', 'tempo']"
   ]
  },
  {
   "cell_type": "markdown",
   "metadata": {},
   "source": [
    "# Figure: Popularity Score Distribution by Genre"
   ]
  },
  {
   "cell_type": "code",
   "execution_count": 52,
   "metadata": {},
   "outputs": [],
   "source": [
    "# stores genre information\n",
    "by_genre = pd.DataFrame(popular_genres, columns=['track_genre'])\n",
    "\n",
    "# calculate top 3 songs for each genre - return as a formatted string\n",
    "def top_3_songs(genre, df):\n",
    "    songs = df[df['track_genre']==genre].sort_values(by='popularity', ascending=False).head(3)['track_name'].reset_index(drop=True)\n",
    "    return '; '.join(songs)\n",
    "\n",
    "# add top 3 songs to df\n",
    "by_genre['top_3_songs'] = by_genre['track_genre'].apply(top_3_songs, args=(df_filtered,))"
   ]
  },
  {
   "cell_type": "code",
   "execution_count": 53,
   "metadata": {},
   "outputs": [],
   "source": [
    "# box plot layer\n",
    "box = alt.Chart(df_filtered).mark_boxplot().encode(\n",
    "    x=alt.X('track_genre:N', sort='-y', title='Genre'),\n",
    "    y=alt.Y('popularity:Q', title='Popularity Score',\n",
    "        scale=alt.Scale(domain=[70, 100])),\n",
    "    color=alt.Color('track_genre:N',\n",
    "                    scale=alt.Scale(domain=list(genre_color_map.keys()), range=list(genre_color_map.values())),\n",
    "                    legend=None),\n",
    ")\n",
    "# it is absolutely ridiculous that there is no way to disable this first tooltip. i don't know what to do\n",
    "\n",
    "# invisible overlay for tooltip (shows top 3 songs)\n",
    "tooltip_overlay = alt.Chart(df_filtered).transform_lookup(\n",
    "    lookup='track_genre',\n",
    "    from_=alt.LookupData(by_genre, key='track_genre', fields=['top_3_songs'])\n",
    ").mark_circle(opacity=0).encode(\n",
    "    x='track_genre:N',\n",
    "    y='popularity:Q',\n",
    "    tooltip=[\n",
    "        alt.Tooltip('track_genre:N', title='Genre'),\n",
    "        alt.Tooltip('top_3_songs:N', title='Top 3 Songs')\n",
    "    ]\n",
    ")\n",
    "\n",
    "# combine layers\n",
    "chart = (box + tooltip_overlay).properties(\n",
    "    width=700,\n",
    "    height=400,\n",
    "    title='Popularity Score Distribution by Genre'\n",
    ")\n",
    "\n",
    "chart\n",
    "\n",
    "# download as png and html\n",
    "chart.save(\"popularity_distribution.html\")  \n",
    "chart.save(\"popularity_distribution.png\")  \n",
    "\n",
    "# download separate html for visualization\n",
    "chart.save(\"plots/popularity_distribution.html\")"
   ]
  },
  {
   "cell_type": "markdown",
   "metadata": {},
   "source": [
    "# Figure: Feature Scatterplot by Genre"
   ]
  },
  {
   "cell_type": "code",
   "execution_count": 54,
   "metadata": {},
   "outputs": [],
   "source": [
    "# dropdowns for the x and y axes\n",
    "x_axis = alt.param(\n",
    "    name='x_axis',\n",
    "    bind=alt.binding_select(\n",
    "        options=long_features, name='Feature 1: '\n",
    "    ),\n",
    "    value='loudness'\n",
    ")\n",
    "\n",
    "y_axis = alt.param(\n",
    "    name='y_axis',\n",
    "    bind=alt.binding_select(\n",
    "        options=long_features, name='Feature 2: '\n",
    "    ),\n",
    "    value='energy'\n",
    ")\n",
    "\n",
    "# select from legend instead of points\n",
    "genre_selection = alt.selection_point(\n",
    "    fields=['track_genre'],\n",
    "    bind='legend',\n",
    "    name='Select Genre',\n",
    "    empty=True \n",
    ")\n",
    "\n",
    "# build scatterplot\n",
    "scatter = alt.Chart(df_filtered).transform_calculate(\n",
    "    x_val='datum[x_axis]',\n",
    "    y_val='datum[y_axis]'\n",
    ").mark_circle(size=50).encode(\n",
    "    x=alt.X('x_val:Q', title='Feature 1'),\n",
    "    y=alt.Y('y_val:Q', title='Feature 2'),\n",
    "    color=alt.condition(genre_selection, \n",
    "                        alt.Color('track_genre:N', \n",
    "                                  scale=alt.Scale(domain=list(genre_color_map.keys()), range=list(genre_color_map.values())),\n",
    "                                  legend=alt.Legend(title='Genre')),\n",
    "                        alt.value('rgba(200, 200, 200, 0.3)')\n",
    "),\n",
    "    tooltip=[alt.Tooltip('track_genre:N', title='Genre')]\n",
    ").add_params(\n",
    "    x_axis,\n",
    "    y_axis,\n",
    "    genre_selection\n",
    ").properties(\n",
    "    width=600,\n",
    "    height=400,\n",
    "    title='Interactive Feature Plot by Genre'\n",
    ")\n",
    "\n",
    "scatter\n",
    "\n",
    "# download as png and html\n",
    "scatter.save(\"interactive_feature_scatter.html\")\n",
    "scatter.save(\"interactive_feature_scatter.png\")\n",
    "\n",
    "# download separate html for visualization\n",
    "scatter.save(\"plots/interactive_feature_scatter.html\")\n",
    "\n"
   ]
  },
  {
   "cell_type": "markdown",
   "metadata": {},
   "source": [
    "# Figure: Distribution of Selected Feature Within Genre"
   ]
  },
  {
   "cell_type": "code",
   "execution_count": 55,
   "metadata": {},
   "outputs": [],
   "source": [
    "# dropdown to select feature\n",
    "feature_param = alt.param(\n",
    "    name='feature_choice',\n",
    "    bind=alt.binding_select(\n",
    "        options=long_features,\n",
    "        name='Feature: '\n",
    "    ),\n",
    "    value='popularity'\n",
    ")\n",
    "\n",
    "# dropdown to select genre\n",
    "genre_param = alt.param(\n",
    "    name='genre_choice',\n",
    "    bind=alt.binding_select(\n",
    "        options=sorted(df_filtered['track_genre'].unique()),\n",
    "        name='Genre: '\n",
    "    ),\n",
    "    value=sorted(df_filtered['track_genre'].unique())[0]\n",
    ")\n",
    "\n",
    "# histogram\n",
    "chart = alt.Chart(df_filtered).transform_filter(\n",
    "    alt.datum.track_genre == genre_param\n",
    ").transform_calculate(\n",
    "    feature_value='datum[feature_choice]'\n",
    ").mark_bar().encode(\n",
    "    x=alt.X('feature_value:Q', bin=alt.Bin(maxbins=30), title='Feature Value'),\n",
    "    y=alt.Y('count():Q', title='Count'),\n",
    "    color=alt.Color('track_genre:N',\n",
    "        scale=alt.Scale(\n",
    "            domain=list(genre_color_map.keys()),\n",
    "            range=list(genre_color_map.values())\n",
    "        ),\n",
    "        legend=None\n",
    "    ),\n",
    "    tooltip=[alt.Tooltip('count():Q', title='Count')]\n",
    ").add_params(\n",
    "    feature_param,\n",
    "    genre_param\n",
    ").properties(\n",
    "    width=600,\n",
    "    height=400,\n",
    "    title='Distribution of Selected Feature Within Genre'\n",
    ")\n",
    "\n",
    "chart\n",
    "\n",
    "# download as html and png \n",
    "chart.save(\"feature_distribution.html\")\n",
    "chart.save(\"feature_distribution.png\")\n",
    "\n",
    "# download separate html for visualization\n",
    "chart.save(\"plots/feature_distribution.html\")"
   ]
  },
  {
   "cell_type": "markdown",
   "metadata": {},
   "source": [
    "# Preprocessing for D3 Visualizations"
   ]
  },
  {
   "cell_type": "code",
   "execution_count": 56,
   "metadata": {},
   "outputs": [],
   "source": [
    "# first heatmap: correlation matrix of featues\n",
    "\n",
    "subset_df = df[long_features]\n",
    "corr_matrix = subset_df.corr().round(2)\n",
    "corr_matrix.reset_index(inplace=True)\n",
    "melted = corr_matrix.melt(id_vars='index', var_name='variable', value_name='value')\n",
    "melted.rename(columns={'index': 'group'}, inplace=True)\n",
    "\n",
    "# save file\n",
    "melted.to_csv(\"corr_data.csv\", index=False)"
   ]
  },
  {
   "cell_type": "code",
   "execution_count": 57,
   "metadata": {},
   "outputs": [],
   "source": [
    "# second heatmap: mean characteristics by genre\n",
    "\n",
    "# calculate feature means by genre\n",
    "genre_feature_means = df_filtered.groupby('track_genre')[short_features].mean().reset_index()\n",
    "genre_feature_means['popularity'] = genre_feature_means['popularity'] / 100 # scale of 0-1\n",
    "\n",
    "melted2 = genre_feature_means.melt(id_vars='track_genre', var_name='feature', value_name='value')\n",
    "melted2.rename(columns={'track_genre': 'genre'}, inplace=True)\n",
    "\n",
    "# save file\n",
    "melted2.to_csv(\"genre_feature_means.csv\", index=False)"
   ]
  }
 ],
 "metadata": {
  "kernelspec": {
   "display_name": "Python 3",
   "language": "python",
   "name": "python3"
  },
  "language_info": {
   "codemirror_mode": {
    "name": "ipython",
    "version": 3
   },
   "file_extension": ".py",
   "mimetype": "text/x-python",
   "name": "python",
   "nbconvert_exporter": "python",
   "pygments_lexer": "ipython3",
   "version": "3.9.6"
  },
  "vscode": {
   "interpreter": {
    "hash": "31f2aee4e71d21fbe5cf8b01ff0e069b9275f58929596ceb00d14d90e3e16cd6"
   }
  }
 },
 "nbformat": 4,
 "nbformat_minor": 4
}
